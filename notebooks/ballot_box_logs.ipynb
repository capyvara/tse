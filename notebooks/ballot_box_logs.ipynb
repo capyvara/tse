{
 "cells": [
  {
   "cell_type": "code",
   "execution_count": 1,
   "metadata": {},
   "outputs": [],
   "source": [
    "#%load_ext autoreload\n",
    "#%autoreload 0"
   ]
  },
  {
   "cell_type": "code",
   "execution_count": 2,
   "metadata": {},
   "outputs": [],
   "source": [
    "import functools\n",
    "import json\n",
    "import os\n",
    "\n",
    "import numpy as np\n",
    "import pandas as pd\n",
    "from scrapy.utils.project import get_project_settings\n",
    "from tqdm.notebook import tqdm\n",
    "\n",
    "from tse.common.ballot_box_files import (BallotBoxFileType,\n",
    "                                         get_ballot_box_files_map,\n",
    "                                         read_ballot_box_logs)\n",
    "from tse.common.pathinfo import PathInfo\n",
    "from tse.parsers import SectionAuxParser, SectionsConfigParser"
   ]
  },
  {
   "cell_type": "code",
   "execution_count": 3,
   "metadata": {},
   "outputs": [],
   "source": [
    "#%autoreload"
   ]
  },
  {
   "cell_type": "code",
   "execution_count": 4,
   "metadata": {},
   "outputs": [
    {
     "data": {
      "text/plain": [
       "'406'"
      ]
     },
     "metadata": {},
     "output_type": "display_data"
    },
    {
     "data": {
      "text/plain": [
       "['544', '546', '548']"
      ]
     },
     "metadata": {},
     "output_type": "display_data"
    },
    {
     "data": {
      "text/plain": [
       "'br ac al am ap ba ce df es go ma mg ms mt pa pb pe pi pr rj rn ro rr rs sc se sp to zz'"
      ]
     },
     "metadata": {},
     "output_type": "display_data"
    }
   ],
   "source": [
    "settings = get_project_settings()\n",
    "plea = settings[\"PLEA\"]\n",
    "elections = settings[\"ELECTIONS\"]\n",
    "states= settings[\"STATES\"]\n",
    "\n",
    "display(plea)\n",
    "display(elections)\n",
    "display(' '.join(states))"
   ]
  },
  {
   "cell_type": "code",
   "execution_count": 5,
   "metadata": {},
   "outputs": [],
   "source": [
    "@functools.lru_cache(500000)\n",
    "def load_json(path):\n",
    "    with open(PathInfo.get_local_path(settings, path), \"r\") as f:\n",
    "        return json.load(f)"
   ]
  },
  {
   "cell_type": "code",
   "execution_count": 6,
   "metadata": {},
   "outputs": [
    {
     "data": {
      "application/vnd.jupyter.widget-view+json": {
       "model_id": "c44c3b32e4a94c7ba6952bdd510667bb",
       "version_major": 2,
       "version_minor": 0
      },
      "text/plain": [
       "  0%|          | 0/472024 [00:00<?, ?it/s]"
      ]
     },
     "metadata": {},
     "output_type": "display_data"
    }
   ],
   "source": [
    "def get_sections():\n",
    "    for state in states:\n",
    "        if state == \"br\":\n",
    "            continue\n",
    "\n",
    "        section_config_path = PathInfo.get_sections_config_path(plea, state)\n",
    "        \n",
    "        config_data = load_json(section_config_path)\n",
    "\n",
    "        for city, zone, section in SectionsConfigParser.expand_sections(config_data):\n",
    "            aux_path = PathInfo.get_section_aux_path(plea, state, city, zone, section)\n",
    "            aux_data = load_json(aux_path)\n",
    "            hash, hashdate, filenames = SectionAuxParser.get_files(aux_data)\n",
    "            if hash:\n",
    "                files_map = get_ballot_box_files_map(filenames)\n",
    "                yield ((state, city, zone, section), (hash, files_map))\n",
    "\n",
    "all_section_files = dict(tqdm(get_sections(), total=472024))"
   ]
  },
  {
   "cell_type": "code",
   "execution_count": 12,
   "metadata": {},
   "outputs": [
    {
     "data": {
      "text/plain": [
       "'arquivo-urna/406/dados/ac/01066/0004/0077/395459446c754b34572b56304a706a6a413454646f6f5a6f5664426f5169564241506566444932644f75493d/o00406-0106600040077.logjez'"
      ]
     },
     "execution_count": 12,
     "metadata": {},
     "output_type": "execute_result"
    }
   ],
   "source": [
    "key = (\"ac\", \"1066\", \"4\", \"77\")\n",
    "hash, files = all_section_files[key]\n",
    "log_path = PathInfo.get_ballot_box_file_path(plea, *key, hash, files[BallotBoxFileType.LOG])\n",
    "log_path"
   ]
  },
  {
   "cell_type": "code",
   "execution_count": 29,
   "metadata": {},
   "outputs": [
    {
     "data": {
      "text/html": [
       "<div>\n",
       "<style scoped>\n",
       "    .dataframe tbody tr th:only-of-type {\n",
       "        vertical-align: middle;\n",
       "    }\n",
       "\n",
       "    .dataframe tbody tr th {\n",
       "        vertical-align: top;\n",
       "    }\n",
       "\n",
       "    .dataframe thead th {\n",
       "        text-align: right;\n",
       "    }\n",
       "</style>\n",
       "<table border=\"1\" class=\"dataframe\">\n",
       "  <thead>\n",
       "    <tr style=\"text-align: right;\">\n",
       "      <th></th>\n",
       "      <th>timestamp</th>\n",
       "      <th>level</th>\n",
       "      <th>id_ballot_box</th>\n",
       "      <th>app</th>\n",
       "      <th>message</th>\n",
       "      <th>hash</th>\n",
       "    </tr>\n",
       "  </thead>\n",
       "  <tbody>\n",
       "    <tr>\n",
       "      <th>0</th>\n",
       "      <td>2022-09-22 14:11:11</td>\n",
       "      <td>INFO</td>\n",
       "      <td>67305985</td>\n",
       "      <td>LOGD</td>\n",
       "      <td>Início das operações do logd</td>\n",
       "      <td>8205594207814213261</td>\n",
       "    </tr>\n",
       "    <tr>\n",
       "      <th>1</th>\n",
       "      <td>2022-09-22 14:11:11</td>\n",
       "      <td>INFO</td>\n",
       "      <td>67305985</td>\n",
       "      <td>LOGD</td>\n",
       "      <td>Urna ligada em 22/09/2022 às 14:09:59</td>\n",
       "      <td>4421815302842738656</td>\n",
       "    </tr>\n",
       "    <tr>\n",
       "      <th>2</th>\n",
       "      <td>2022-09-22 14:11:11</td>\n",
       "      <td>INFO</td>\n",
       "      <td>67305985</td>\n",
       "      <td>SCUE</td>\n",
       "      <td>Iniciando aplicação - Oficial - 1º turno</td>\n",
       "      <td>396608720597996448</td>\n",
       "    </tr>\n",
       "    <tr>\n",
       "      <th>3</th>\n",
       "      <td>2022-09-22 14:11:11</td>\n",
       "      <td>INFO</td>\n",
       "      <td>67305985</td>\n",
       "      <td>SCUE</td>\n",
       "      <td>Versão da aplicação: 8.26.0.0 - Onça-pintada</td>\n",
       "      <td>17957230827251748098</td>\n",
       "    </tr>\n",
       "    <tr>\n",
       "      <th>4</th>\n",
       "      <td>2022-09-22 14:11:13</td>\n",
       "      <td>INFO</td>\n",
       "      <td>67305985</td>\n",
       "      <td>SCUE</td>\n",
       "      <td>Urna operando com rede elétrica</td>\n",
       "      <td>15157650888632883953</td>\n",
       "    </tr>\n",
       "    <tr>\n",
       "      <th>...</th>\n",
       "      <td>...</td>\n",
       "      <td>...</td>\n",
       "      <td>...</td>\n",
       "      <td>...</td>\n",
       "      <td>...</td>\n",
       "      <td>...</td>\n",
       "    </tr>\n",
       "    <tr>\n",
       "      <th>5356</th>\n",
       "      <td>2022-10-02 15:52:57</td>\n",
       "      <td>INFO</td>\n",
       "      <td>67305985</td>\n",
       "      <td>VOTA</td>\n",
       "      <td>Gerando arquivo de resultado [.ver] + [Início]</td>\n",
       "      <td>612076369282010836</td>\n",
       "    </tr>\n",
       "    <tr>\n",
       "      <th>5357</th>\n",
       "      <td>2022-10-02 15:52:57</td>\n",
       "      <td>INFO</td>\n",
       "      <td>67305985</td>\n",
       "      <td>VOTA</td>\n",
       "      <td>Gerando arquivo de resultado [.ver] + [Término]</td>\n",
       "      <td>14799536291532103694</td>\n",
       "    </tr>\n",
       "    <tr>\n",
       "      <th>5358</th>\n",
       "      <td>2022-10-02 15:52:57</td>\n",
       "      <td>INFO</td>\n",
       "      <td>67305985</td>\n",
       "      <td>VOTA</td>\n",
       "      <td>Gerando arquivo de resultado [.chvtp] + [Início]</td>\n",
       "      <td>17677498444101028370</td>\n",
       "    </tr>\n",
       "    <tr>\n",
       "      <th>5359</th>\n",
       "      <td>2022-10-02 15:52:57</td>\n",
       "      <td>INFO</td>\n",
       "      <td>67305985</td>\n",
       "      <td>VOTA</td>\n",
       "      <td>Gerando arquivo de resultado [.chvtp] + [Término]</td>\n",
       "      <td>12710055081428421582</td>\n",
       "    </tr>\n",
       "    <tr>\n",
       "      <th>5360</th>\n",
       "      <td>2022-10-02 15:52:57</td>\n",
       "      <td>INFO</td>\n",
       "      <td>67305985</td>\n",
       "      <td>VOTA</td>\n",
       "      <td>Gerando arquivo de resultado [.logjez] + [Início]</td>\n",
       "      <td>16360403072226127887</td>\n",
       "    </tr>\n",
       "  </tbody>\n",
       "</table>\n",
       "<p>5361 rows × 6 columns</p>\n",
       "</div>"
      ],
      "text/plain": [
       "               timestamp level id_ballot_box   app  \\\n",
       "0    2022-09-22 14:11:11  INFO      67305985  LOGD   \n",
       "1    2022-09-22 14:11:11  INFO      67305985  LOGD   \n",
       "2    2022-09-22 14:11:11  INFO      67305985  SCUE   \n",
       "3    2022-09-22 14:11:11  INFO      67305985  SCUE   \n",
       "4    2022-09-22 14:11:13  INFO      67305985  SCUE   \n",
       "...                  ...   ...           ...   ...   \n",
       "5356 2022-10-02 15:52:57  INFO      67305985  VOTA   \n",
       "5357 2022-10-02 15:52:57  INFO      67305985  VOTA   \n",
       "5358 2022-10-02 15:52:57  INFO      67305985  VOTA   \n",
       "5359 2022-10-02 15:52:57  INFO      67305985  VOTA   \n",
       "5360 2022-10-02 15:52:57  INFO      67305985  VOTA   \n",
       "\n",
       "                                                message                  hash  \n",
       "0                          Início das operações do logd   8205594207814213261  \n",
       "1                 Urna ligada em 22/09/2022 às 14:09:59   4421815302842738656  \n",
       "2              Iniciando aplicação - Oficial - 1º turno    396608720597996448  \n",
       "3          Versão da aplicação: 8.26.0.0 - Onça-pintada  17957230827251748098  \n",
       "4                       Urna operando com rede elétrica  15157650888632883953  \n",
       "...                                                 ...                   ...  \n",
       "5356     Gerando arquivo de resultado [.ver] + [Início]    612076369282010836  \n",
       "5357    Gerando arquivo de resultado [.ver] + [Término]  14799536291532103694  \n",
       "5358   Gerando arquivo de resultado [.chvtp] + [Início]  17677498444101028370  \n",
       "5359  Gerando arquivo de resultado [.chvtp] + [Término]  12710055081428421582  \n",
       "5360  Gerando arquivo de resultado [.logjez] + [Início]  16360403072226127887  \n",
       "\n",
       "[5361 rows x 6 columns]"
      ]
     },
     "execution_count": 29,
     "metadata": {},
     "output_type": "execute_result"
    }
   ],
   "source": [
    "logs = dict(read_ballot_box_logs(PathInfo.get_local_path(settings, log_path)))\n",
    "df = logs[\"o00406-0106600040077.logjez\"]\n",
    "df"
   ]
  },
  {
   "cell_type": "code",
   "execution_count": 33,
   "metadata": {},
   "outputs": [
    {
     "data": {
      "text/plain": [
       "0       0\n",
       "1       0\n",
       "2       0\n",
       "3       0\n",
       "4       0\n",
       "       ..\n",
       "5356    0\n",
       "5357    0\n",
       "5358    0\n",
       "5359    0\n",
       "5360    0\n",
       "Length: 5361, dtype: int8"
      ]
     },
     "execution_count": 33,
     "metadata": {},
     "output_type": "execute_result"
    }
   ],
   "source": [
    "df.id_ballot_box.cat.codes"
   ]
  },
  {
   "cell_type": "code",
   "execution_count": null,
   "metadata": {},
   "outputs": [],
   "source": []
  }
 ],
 "metadata": {
  "kernelspec": {
   "display_name": "Python 3.9.13 ('.venv': poetry)",
   "language": "python",
   "name": "python3"
  },
  "language_info": {
   "codemirror_mode": {
    "name": "ipython",
    "version": 3
   },
   "file_extension": ".py",
   "mimetype": "text/x-python",
   "name": "python",
   "nbconvert_exporter": "python",
   "pygments_lexer": "ipython3",
   "version": "3.9.13"
  },
  "orig_nbformat": 4,
  "vscode": {
   "interpreter": {
    "hash": "5f48149595b360eaff228a4247f4382b10eaffbb6fae539cf3e1f08406baf115"
   }
  }
 },
 "nbformat": 4,
 "nbformat_minor": 2
}
