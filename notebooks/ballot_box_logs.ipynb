{
 "cells": [
  {
   "cell_type": "code",
   "execution_count": 1,
   "metadata": {},
   "outputs": [],
   "source": [
    "%load_ext autoreload\n",
    "%autoreload 0"
   ]
  },
  {
   "cell_type": "code",
   "execution_count": 41,
   "metadata": {},
   "outputs": [],
   "source": [
    "import functools\n",
    "import json\n",
    "import os\n",
    "\n",
    "import numpy as np\n",
    "import pandas as pd\n",
    "from scrapy.utils.project import get_project_settings\n",
    "from tqdm.notebook import tqdm\n",
    "\n",
    "from tse.common.ballot_box_files import (BallotBoxFileType,\n",
    "                                         get_ballot_box_files_map,\n",
    "                                         read_ballot_box_logs)\n",
    "from tse.common.pathinfo import PathInfo\n",
    "from tse.parsers import SectionAuxParser, SectionsConfigParser, CityConfigParser"
   ]
  },
  {
   "cell_type": "code",
   "execution_count": 50,
   "metadata": {},
   "outputs": [],
   "source": [
    "%autoreload"
   ]
  },
  {
   "cell_type": "code",
   "execution_count": 5,
   "metadata": {},
   "outputs": [
    {
     "data": {
      "text/plain": [
       "'oficial'"
      ]
     },
     "metadata": {},
     "output_type": "display_data"
    },
    {
     "data": {
      "text/plain": [
       "'ele2022'"
      ]
     },
     "metadata": {},
     "output_type": "display_data"
    },
    {
     "data": {
      "text/plain": [
       "'406'"
      ]
     },
     "metadata": {},
     "output_type": "display_data"
    },
    {
     "data": {
      "text/plain": [
       "['544', '546', '548']"
      ]
     },
     "metadata": {},
     "output_type": "display_data"
    },
    {
     "data": {
      "text/plain": [
       "'br ac al am ap ba ce df es go ma mg ms mt pa pb pe pi pr rj rn ro rr rs sc se sp to zz'"
      ]
     },
     "metadata": {},
     "output_type": "display_data"
    }
   ],
   "source": [
    "settings = get_project_settings()\n",
    "plea = settings[\"PLEA\"]\n",
    "elections = settings[\"ELECTIONS\"]\n",
    "states= settings[\"STATES\"]\n",
    "\n",
    "display(settings[\"ENVIRONMENT\"])\n",
    "display(settings[\"CYCLE\"])\n",
    "display(plea)\n",
    "display(elections)\n",
    "display(' '.join(states))\n"
   ]
  },
  {
   "cell_type": "code",
   "execution_count": 6,
   "metadata": {},
   "outputs": [],
   "source": [
    "@functools.lru_cache(500000)\n",
    "def load_json(path):\n",
    "    with open(PathInfo.get_local_path(settings, path), \"r\") as f:\n",
    "        return json.load(f)"
   ]
  },
  {
   "cell_type": "code",
   "execution_count": 11,
   "metadata": {},
   "outputs": [
    {
     "data": {
      "application/vnd.jupyter.widget-view+json": {
       "model_id": "2bd894c46f0a4f99a5dd9b22fa0ab60b",
       "version_major": 2,
       "version_minor": 0
      },
      "text/plain": [
       "  0%|          | 0/472075 [00:00<?, ?it/s]"
      ]
     },
     "metadata": {},
     "output_type": "display_data"
    }
   ],
   "source": [
    "def get_sections():\n",
    "    for state in states:\n",
    "        if state == \"br\":\n",
    "            continue\n",
    "\n",
    "        section_config_path = PathInfo.get_sections_config_path(plea, state)\n",
    "        \n",
    "        config_data = load_json(section_config_path)\n",
    "\n",
    "        for city, zone, section in SectionsConfigParser.expand_sections(config_data):\n",
    "            aux_path = PathInfo.get_section_aux_path(plea, state, city, zone, section)\n",
    "            aux_data = load_json(aux_path)\n",
    "            hash, hashdate, filenames = SectionAuxParser.get_files(aux_data)\n",
    "            yield ((state, city, zone, section), (hash, hashdate, filenames))\n",
    "\n",
    "all_section_files = dict(tqdm(get_sections(), total=472075))"
   ]
  },
  {
   "cell_type": "code",
   "execution_count": 17,
   "metadata": {},
   "outputs": [
    {
     "data": {
      "text/html": [
       "<div>\n",
       "<style scoped>\n",
       "    .dataframe tbody tr th:only-of-type {\n",
       "        vertical-align: middle;\n",
       "    }\n",
       "\n",
       "    .dataframe tbody tr th {\n",
       "        vertical-align: top;\n",
       "    }\n",
       "\n",
       "    .dataframe thead th {\n",
       "        text-align: right;\n",
       "    }\n",
       "</style>\n",
       "<table border=\"1\" class=\"dataframe\">\n",
       "  <thead>\n",
       "    <tr style=\"text-align: right;\">\n",
       "      <th></th>\n",
       "      <th></th>\n",
       "      <th></th>\n",
       "      <th></th>\n",
       "      <th>hash</th>\n",
       "      <th>hashdate</th>\n",
       "      <th>files</th>\n",
       "    </tr>\n",
       "    <tr>\n",
       "      <th>state</th>\n",
       "      <th>city</th>\n",
       "      <th>zone</th>\n",
       "      <th>section</th>\n",
       "      <th></th>\n",
       "      <th></th>\n",
       "      <th></th>\n",
       "    </tr>\n",
       "  </thead>\n",
       "  <tbody>\n",
       "    <tr>\n",
       "      <th rowspan=\"5\" valign=\"top\">ac</th>\n",
       "      <th rowspan=\"5\" valign=\"top\">1066</th>\n",
       "      <th rowspan=\"5\" valign=\"top\">4</th>\n",
       "      <th>77</th>\n",
       "      <td>395459446c754b34572b56304a706a6a413454646f6f5a...</td>\n",
       "      <td>2022-10-02 19:06:03</td>\n",
       "      <td>[o00406-0106600040077.vscmr, o00406-0106600040...</td>\n",
       "    </tr>\n",
       "    <tr>\n",
       "      <th>78</th>\n",
       "      <td>76366235735557583732434d586f62466765505a6c4169...</td>\n",
       "      <td>2022-10-02 18:52:38</td>\n",
       "      <td>[o00406-0106600040078.vscmr, o00406-0106600040...</td>\n",
       "    </tr>\n",
       "    <tr>\n",
       "      <th>79</th>\n",
       "      <td>7137566a703779784b472d63676a2d324e743856527946...</td>\n",
       "      <td>2022-10-02 18:52:43</td>\n",
       "      <td>[o00406-0106600040079.logjez, o00406-010660004...</td>\n",
       "    </tr>\n",
       "    <tr>\n",
       "      <th>80</th>\n",
       "      <td>7071334531373673564c445a787a6d626772646c36704a...</td>\n",
       "      <td>2022-10-02 19:05:44</td>\n",
       "      <td>[o00406-0106600040080.bu, o00406-0106600040080...</td>\n",
       "    </tr>\n",
       "    <tr>\n",
       "      <th>115</th>\n",
       "      <td>5257727135536c66657735443649706f57394637457556...</td>\n",
       "      <td>2022-10-02 19:06:08</td>\n",
       "      <td>[o00406-0106600040115.bu, o00406-0106600040115...</td>\n",
       "    </tr>\n",
       "    <tr>\n",
       "      <th>...</th>\n",
       "      <th>...</th>\n",
       "      <th>...</th>\n",
       "      <th>...</th>\n",
       "      <td>...</td>\n",
       "      <td>...</td>\n",
       "      <td>...</td>\n",
       "    </tr>\n",
       "    <tr>\n",
       "      <th rowspan=\"5\" valign=\"top\">zz</th>\n",
       "      <th rowspan=\"2\" valign=\"top\">39187</th>\n",
       "      <th rowspan=\"2\" valign=\"top\">1</th>\n",
       "      <th>1428</th>\n",
       "      <td>None</td>\n",
       "      <td>NaT</td>\n",
       "      <td>None</td>\n",
       "    </tr>\n",
       "    <tr>\n",
       "      <th>3011</th>\n",
       "      <td>None</td>\n",
       "      <td>NaT</td>\n",
       "      <td>None</td>\n",
       "    </tr>\n",
       "    <tr>\n",
       "      <th>39225</th>\n",
       "      <th>1</th>\n",
       "      <th>931</th>\n",
       "      <td>None</td>\n",
       "      <td>NaT</td>\n",
       "      <td>None</td>\n",
       "    </tr>\n",
       "    <tr>\n",
       "      <th>99180</th>\n",
       "      <th>1</th>\n",
       "      <th>1228</th>\n",
       "      <td>4f31656c37516d52532d756c362d444378377a4c35597a...</td>\n",
       "      <td>2022-10-02 22:57:46</td>\n",
       "      <td>[o00406-9918000011228.logsajez, o00406-9918000...</td>\n",
       "    </tr>\n",
       "    <tr>\n",
       "      <th>99350</th>\n",
       "      <th>1</th>\n",
       "      <th>1236</th>\n",
       "      <td>None</td>\n",
       "      <td>NaT</td>\n",
       "      <td>None</td>\n",
       "    </tr>\n",
       "  </tbody>\n",
       "</table>\n",
       "<p>472075 rows × 3 columns</p>\n",
       "</div>"
      ],
      "text/plain": [
       "                                                                       hash  \\\n",
       "state city  zone section                                                      \n",
       "ac    1066  4    77       395459446c754b34572b56304a706a6a413454646f6f5a...   \n",
       "                 78       76366235735557583732434d586f62466765505a6c4169...   \n",
       "                 79       7137566a703779784b472d63676a2d324e743856527946...   \n",
       "                 80       7071334531373673564c445a787a6d626772646c36704a...   \n",
       "                 115      5257727135536c66657735443649706f57394637457556...   \n",
       "...                                                                     ...   \n",
       "zz    39187 1    1428                                                  None   \n",
       "                 3011                                                  None   \n",
       "      39225 1    931                                                   None   \n",
       "      99180 1    1228     4f31656c37516d52532d756c362d444378377a4c35597a...   \n",
       "      99350 1    1236                                                  None   \n",
       "\n",
       "                                    hashdate  \\\n",
       "state city  zone section                       \n",
       "ac    1066  4    77      2022-10-02 19:06:03   \n",
       "                 78      2022-10-02 18:52:38   \n",
       "                 79      2022-10-02 18:52:43   \n",
       "                 80      2022-10-02 19:05:44   \n",
       "                 115     2022-10-02 19:06:08   \n",
       "...                                      ...   \n",
       "zz    39187 1    1428                    NaT   \n",
       "                 3011                    NaT   \n",
       "      39225 1    931                     NaT   \n",
       "      99180 1    1228    2022-10-02 22:57:46   \n",
       "      99350 1    1236                    NaT   \n",
       "\n",
       "                                                                      files  \n",
       "state city  zone section                                                     \n",
       "ac    1066  4    77       [o00406-0106600040077.vscmr, o00406-0106600040...  \n",
       "                 78       [o00406-0106600040078.vscmr, o00406-0106600040...  \n",
       "                 79       [o00406-0106600040079.logjez, o00406-010660004...  \n",
       "                 80       [o00406-0106600040080.bu, o00406-0106600040080...  \n",
       "                 115      [o00406-0106600040115.bu, o00406-0106600040115...  \n",
       "...                                                                     ...  \n",
       "zz    39187 1    1428                                                  None  \n",
       "                 3011                                                  None  \n",
       "      39225 1    931                                                   None  \n",
       "      99180 1    1228     [o00406-9918000011228.logsajez, o00406-9918000...  \n",
       "      99350 1    1236                                                  None  \n",
       "\n",
       "[472075 rows x 3 columns]"
      ]
     },
     "execution_count": 17,
     "metadata": {},
     "output_type": "execute_result"
    }
   ],
   "source": [
    "mux = pd.MultiIndex.from_tuples(all_section_files.keys(), names=[\"state\", \"city\", \"zone\", \"section\"])\n",
    "df_all_section_files = pd.DataFrame(list(all_section_files.values()), index=mux, columns=[\"hash\", \"hashdate\", \"files\"])\n",
    "df_all_section_files"
   ]
  },
  {
   "cell_type": "code",
   "execution_count": 28,
   "metadata": {},
   "outputs": [
    {
     "data": {
      "text/plain": [
       "state  city   zone\n",
       "sp     71072  375     787\n",
       "              374     754\n",
       "              372     742\n",
       "              253     691\n",
       "              376     690\n",
       "                     ... \n",
       "zz     29912  1         1\n",
       "       29904  1         1\n",
       "       29890  1         1\n",
       "       29882  1         1\n",
       "       99473  1         1\n",
       "Length: 6283, dtype: int64"
      ]
     },
     "execution_count": 28,
     "metadata": {},
     "output_type": "execute_result"
    }
   ],
   "source": [
    "df_all_section_files.groupby([\"state\", \"city\", \"zone\"]).size().sort_values(ascending=False)"
   ]
  },
  {
   "cell_type": "code",
   "execution_count": 51,
   "metadata": {},
   "outputs": [],
   "source": [
    "def get_cities():\n",
    "    cities_config_path = PathInfo.get_cities_config_path(elections[0])\n",
    "    for state, city, city_ibge, name, is_capital, zones in CityConfigParser.expand_cities(load_json(cities_config_path)):\n",
    "        yield ((state, city), (city_ibge, name, is_capital, zones))\n",
    "\n",
    "all_cities = dict(get_cities())"
   ]
  },
  {
   "cell_type": "code",
   "execution_count": 52,
   "metadata": {},
   "outputs": [
    {
     "data": {
      "text/html": [
       "<div>\n",
       "<style scoped>\n",
       "    .dataframe tbody tr th:only-of-type {\n",
       "        vertical-align: middle;\n",
       "    }\n",
       "\n",
       "    .dataframe tbody tr th {\n",
       "        vertical-align: top;\n",
       "    }\n",
       "\n",
       "    .dataframe thead th {\n",
       "        text-align: right;\n",
       "    }\n",
       "</style>\n",
       "<table border=\"1\" class=\"dataframe\">\n",
       "  <thead>\n",
       "    <tr style=\"text-align: right;\">\n",
       "      <th></th>\n",
       "      <th></th>\n",
       "      <th>city_ibge</th>\n",
       "      <th>name</th>\n",
       "      <th>is_capital</th>\n",
       "      <th>zones</th>\n",
       "    </tr>\n",
       "    <tr>\n",
       "      <th>state</th>\n",
       "      <th>city</th>\n",
       "      <th></th>\n",
       "      <th></th>\n",
       "      <th></th>\n",
       "      <th></th>\n",
       "    </tr>\n",
       "  </thead>\n",
       "  <tbody>\n",
       "    <tr>\n",
       "      <th rowspan=\"5\" valign=\"top\">ac</th>\n",
       "      <th>1120</th>\n",
       "      <td>1200013</td>\n",
       "      <td>ACRELÂNDIA</td>\n",
       "      <td>False</td>\n",
       "      <td>[8]</td>\n",
       "    </tr>\n",
       "    <tr>\n",
       "      <th>1570</th>\n",
       "      <td>1200054</td>\n",
       "      <td>ASSIS BRASIL</td>\n",
       "      <td>False</td>\n",
       "      <td>[6]</td>\n",
       "    </tr>\n",
       "    <tr>\n",
       "      <th>1058</th>\n",
       "      <td>1200104</td>\n",
       "      <td>BRASILÉIA</td>\n",
       "      <td>False</td>\n",
       "      <td>[6]</td>\n",
       "    </tr>\n",
       "    <tr>\n",
       "      <th>1007</th>\n",
       "      <td>1200138</td>\n",
       "      <td>BUJARI</td>\n",
       "      <td>False</td>\n",
       "      <td>[9]</td>\n",
       "    </tr>\n",
       "    <tr>\n",
       "      <th>1015</th>\n",
       "      <td>1200179</td>\n",
       "      <td>CAPIXABA</td>\n",
       "      <td>False</td>\n",
       "      <td>[2]</td>\n",
       "    </tr>\n",
       "    <tr>\n",
       "      <th>...</th>\n",
       "      <th>...</th>\n",
       "      <td>...</td>\n",
       "      <td>...</td>\n",
       "      <td>...</td>\n",
       "      <td>...</td>\n",
       "    </tr>\n",
       "    <tr>\n",
       "      <th rowspan=\"5\" valign=\"top\">to</th>\n",
       "      <th>96199</th>\n",
       "      <td>1721109</td>\n",
       "      <td>TOCANTÍNIA</td>\n",
       "      <td>False</td>\n",
       "      <td>[5]</td>\n",
       "    </tr>\n",
       "    <tr>\n",
       "      <th>73458</th>\n",
       "      <td>1721257</td>\n",
       "      <td>TUPIRAMA</td>\n",
       "      <td>False</td>\n",
       "      <td>[23]</td>\n",
       "    </tr>\n",
       "    <tr>\n",
       "      <th>73237</th>\n",
       "      <td>1721307</td>\n",
       "      <td>TUPIRATINS</td>\n",
       "      <td>False</td>\n",
       "      <td>[6]</td>\n",
       "    </tr>\n",
       "    <tr>\n",
       "      <th>96652</th>\n",
       "      <td>1722081</td>\n",
       "      <td>WANDERLÂNDIA</td>\n",
       "      <td>False</td>\n",
       "      <td>[27]</td>\n",
       "    </tr>\n",
       "    <tr>\n",
       "      <th>96431</th>\n",
       "      <td>1722107</td>\n",
       "      <td>XAMBIOÁ</td>\n",
       "      <td>False</td>\n",
       "      <td>[12]</td>\n",
       "    </tr>\n",
       "  </tbody>\n",
       "</table>\n",
       "<p>5751 rows × 4 columns</p>\n",
       "</div>"
      ],
      "text/plain": [
       "            city_ibge          name  is_capital zones\n",
       "state city                                           \n",
       "ac    1120    1200013    ACRELÂNDIA       False   [8]\n",
       "      1570    1200054  ASSIS BRASIL       False   [6]\n",
       "      1058    1200104     BRASILÉIA       False   [6]\n",
       "      1007    1200138        BUJARI       False   [9]\n",
       "      1015    1200179      CAPIXABA       False   [2]\n",
       "...               ...           ...         ...   ...\n",
       "to    96199   1721109    TOCANTÍNIA       False   [5]\n",
       "      73458   1721257      TUPIRAMA       False  [23]\n",
       "      73237   1721307    TUPIRATINS       False   [6]\n",
       "      96652   1722081  WANDERLÂNDIA       False  [27]\n",
       "      96431   1722107       XAMBIOÁ       False  [12]\n",
       "\n",
       "[5751 rows x 4 columns]"
      ]
     },
     "execution_count": 52,
     "metadata": {},
     "output_type": "execute_result"
    }
   ],
   "source": [
    "mux = pd.MultiIndex.from_tuples(all_cities.keys(), names=[\"state\", \"city\"])\n",
    "df_all_cities = pd.DataFrame(list(all_cities.values()), index=mux, columns=[\"city_ibge\", \"name\", \"is_capital\", \"zones\"])\n",
    "df_all_cities"
   ]
  },
  {
   "cell_type": "code",
   "execution_count": 85,
   "metadata": {},
   "outputs": [
    {
     "data": {
      "text/plain": [
       "city_ibge                                               3550308\n",
       "name                                                  SÃO PAULO\n",
       "is_capital                                                 True\n",
       "zones         [20, 248, 250, 256, 373, 376, 392, 2, 247, 249...\n",
       "Name: (sp, 71072), dtype: object"
      ]
     },
     "execution_count": 85,
     "metadata": {},
     "output_type": "execute_result"
    }
   ],
   "source": [
    "df_all_cities[df_all_cities[\"name\"] == \"SÃO PAULO\"]\n",
    "df_all_cities.loc[\"sp\", \"71072\"]"
   ]
  },
  {
   "cell_type": "code",
   "execution_count": 95,
   "metadata": {},
   "outputs": [
    {
     "data": {
      "text/plain": [
       "'arquivo-urna/406/dados/ac/01066/0004/0077/395459446c754b34572b56304a706a6a413454646f6f5a6f5664426f5169564241506566444932644f75493d/o00406-0106600040077.logjez'"
      ]
     },
     "execution_count": 95,
     "metadata": {},
     "output_type": "execute_result"
    }
   ],
   "source": [
    "row = df_all_section_files.loc[\"ac\", \"1066\", \"4\", \"77\"]\n",
    "log_filename = get_ballot_box_files_map(row[\"files\"])[BallotBoxFileType.LOG]\n",
    "log_path = PathInfo.get_ballot_box_file_path(plea, \"ac\", \"1066\", \"4\", \"77\", row[\"hash\"], log_filename)\n",
    "log_path"
   ]
  },
  {
   "cell_type": "code",
   "execution_count": 96,
   "metadata": {},
   "outputs": [
    {
     "data": {
      "text/html": [
       "<div>\n",
       "<style scoped>\n",
       "    .dataframe tbody tr th:only-of-type {\n",
       "        vertical-align: middle;\n",
       "    }\n",
       "\n",
       "    .dataframe tbody tr th {\n",
       "        vertical-align: top;\n",
       "    }\n",
       "\n",
       "    .dataframe thead th {\n",
       "        text-align: right;\n",
       "    }\n",
       "</style>\n",
       "<table border=\"1\" class=\"dataframe\">\n",
       "  <thead>\n",
       "    <tr style=\"text-align: right;\">\n",
       "      <th></th>\n",
       "      <th>timestamp</th>\n",
       "      <th>level</th>\n",
       "      <th>id_ballot_box</th>\n",
       "      <th>app</th>\n",
       "      <th>message</th>\n",
       "      <th>hash</th>\n",
       "    </tr>\n",
       "  </thead>\n",
       "  <tbody>\n",
       "    <tr>\n",
       "      <th>0</th>\n",
       "      <td>2022-09-22 14:11:11</td>\n",
       "      <td>INFO</td>\n",
       "      <td>67305985</td>\n",
       "      <td>LOGD</td>\n",
       "      <td>Início das operações do logd</td>\n",
       "      <td>8205594207814213261</td>\n",
       "    </tr>\n",
       "    <tr>\n",
       "      <th>1</th>\n",
       "      <td>2022-09-22 14:11:11</td>\n",
       "      <td>INFO</td>\n",
       "      <td>67305985</td>\n",
       "      <td>LOGD</td>\n",
       "      <td>Urna ligada em 22/09/2022 às 14:09:59</td>\n",
       "      <td>4421815302842738656</td>\n",
       "    </tr>\n",
       "    <tr>\n",
       "      <th>2</th>\n",
       "      <td>2022-09-22 14:11:11</td>\n",
       "      <td>INFO</td>\n",
       "      <td>67305985</td>\n",
       "      <td>SCUE</td>\n",
       "      <td>Iniciando aplicação - Oficial - 1º turno</td>\n",
       "      <td>396608720597996448</td>\n",
       "    </tr>\n",
       "    <tr>\n",
       "      <th>3</th>\n",
       "      <td>2022-09-22 14:11:11</td>\n",
       "      <td>INFO</td>\n",
       "      <td>67305985</td>\n",
       "      <td>SCUE</td>\n",
       "      <td>Versão da aplicação: 8.26.0.0 - Onça-pintada</td>\n",
       "      <td>17957230827251748098</td>\n",
       "    </tr>\n",
       "    <tr>\n",
       "      <th>4</th>\n",
       "      <td>2022-09-22 14:11:13</td>\n",
       "      <td>INFO</td>\n",
       "      <td>67305985</td>\n",
       "      <td>SCUE</td>\n",
       "      <td>Urna operando com rede elétrica</td>\n",
       "      <td>15157650888632883953</td>\n",
       "    </tr>\n",
       "    <tr>\n",
       "      <th>...</th>\n",
       "      <td>...</td>\n",
       "      <td>...</td>\n",
       "      <td>...</td>\n",
       "      <td>...</td>\n",
       "      <td>...</td>\n",
       "      <td>...</td>\n",
       "    </tr>\n",
       "    <tr>\n",
       "      <th>5356</th>\n",
       "      <td>2022-10-02 15:52:57</td>\n",
       "      <td>INFO</td>\n",
       "      <td>67305985</td>\n",
       "      <td>VOTA</td>\n",
       "      <td>Gerando arquivo de resultado [.ver] + [Início]</td>\n",
       "      <td>612076369282010836</td>\n",
       "    </tr>\n",
       "    <tr>\n",
       "      <th>5357</th>\n",
       "      <td>2022-10-02 15:52:57</td>\n",
       "      <td>INFO</td>\n",
       "      <td>67305985</td>\n",
       "      <td>VOTA</td>\n",
       "      <td>Gerando arquivo de resultado [.ver] + [Término]</td>\n",
       "      <td>14799536291532103694</td>\n",
       "    </tr>\n",
       "    <tr>\n",
       "      <th>5358</th>\n",
       "      <td>2022-10-02 15:52:57</td>\n",
       "      <td>INFO</td>\n",
       "      <td>67305985</td>\n",
       "      <td>VOTA</td>\n",
       "      <td>Gerando arquivo de resultado [.chvtp] + [Início]</td>\n",
       "      <td>17677498444101028370</td>\n",
       "    </tr>\n",
       "    <tr>\n",
       "      <th>5359</th>\n",
       "      <td>2022-10-02 15:52:57</td>\n",
       "      <td>INFO</td>\n",
       "      <td>67305985</td>\n",
       "      <td>VOTA</td>\n",
       "      <td>Gerando arquivo de resultado [.chvtp] + [Término]</td>\n",
       "      <td>12710055081428421582</td>\n",
       "    </tr>\n",
       "    <tr>\n",
       "      <th>5360</th>\n",
       "      <td>2022-10-02 15:52:57</td>\n",
       "      <td>INFO</td>\n",
       "      <td>67305985</td>\n",
       "      <td>VOTA</td>\n",
       "      <td>Gerando arquivo de resultado [.logjez] + [Início]</td>\n",
       "      <td>16360403072226127887</td>\n",
       "    </tr>\n",
       "  </tbody>\n",
       "</table>\n",
       "<p>5361 rows × 6 columns</p>\n",
       "</div>"
      ],
      "text/plain": [
       "               timestamp level id_ballot_box   app  \\\n",
       "0    2022-09-22 14:11:11  INFO      67305985  LOGD   \n",
       "1    2022-09-22 14:11:11  INFO      67305985  LOGD   \n",
       "2    2022-09-22 14:11:11  INFO      67305985  SCUE   \n",
       "3    2022-09-22 14:11:11  INFO      67305985  SCUE   \n",
       "4    2022-09-22 14:11:13  INFO      67305985  SCUE   \n",
       "...                  ...   ...           ...   ...   \n",
       "5356 2022-10-02 15:52:57  INFO      67305985  VOTA   \n",
       "5357 2022-10-02 15:52:57  INFO      67305985  VOTA   \n",
       "5358 2022-10-02 15:52:57  INFO      67305985  VOTA   \n",
       "5359 2022-10-02 15:52:57  INFO      67305985  VOTA   \n",
       "5360 2022-10-02 15:52:57  INFO      67305985  VOTA   \n",
       "\n",
       "                                                message                  hash  \n",
       "0                          Início das operações do logd   8205594207814213261  \n",
       "1                 Urna ligada em 22/09/2022 às 14:09:59   4421815302842738656  \n",
       "2              Iniciando aplicação - Oficial - 1º turno    396608720597996448  \n",
       "3          Versão da aplicação: 8.26.0.0 - Onça-pintada  17957230827251748098  \n",
       "4                       Urna operando com rede elétrica  15157650888632883953  \n",
       "...                                                 ...                   ...  \n",
       "5356     Gerando arquivo de resultado [.ver] + [Início]    612076369282010836  \n",
       "5357    Gerando arquivo de resultado [.ver] + [Término]  14799536291532103694  \n",
       "5358   Gerando arquivo de resultado [.chvtp] + [Início]  17677498444101028370  \n",
       "5359  Gerando arquivo de resultado [.chvtp] + [Término]  12710055081428421582  \n",
       "5360  Gerando arquivo de resultado [.logjez] + [Início]  16360403072226127887  \n",
       "\n",
       "[5361 rows x 6 columns]"
      ]
     },
     "execution_count": 96,
     "metadata": {},
     "output_type": "execute_result"
    }
   ],
   "source": [
    "logs = dict(read_ballot_box_logs(PathInfo.get_local_path(settings, log_path)))\n",
    "df = logs[\"o00406-0106600040077.logjez\"]\n",
    "df"
   ]
  },
  {
   "cell_type": "code",
   "execution_count": null,
   "metadata": {},
   "outputs": [],
   "source": []
  }
 ],
 "metadata": {
  "kernelspec": {
   "display_name": "Python 3.9.13 ('.venv': poetry)",
   "language": "python",
   "name": "python3"
  },
  "language_info": {
   "codemirror_mode": {
    "name": "ipython",
    "version": 3
   },
   "file_extension": ".py",
   "mimetype": "text/x-python",
   "name": "python",
   "nbconvert_exporter": "python",
   "pygments_lexer": "ipython3",
   "version": "3.9.13"
  },
  "orig_nbformat": 4,
  "vscode": {
   "interpreter": {
    "hash": "5f48149595b360eaff228a4247f4382b10eaffbb6fae539cf3e1f08406baf115"
   }
  }
 },
 "nbformat": 4,
 "nbformat_minor": 2
}
